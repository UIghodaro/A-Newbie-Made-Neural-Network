{
 "cells": [
  {
   "cell_type": "markdown",
   "id": "5101e387",
   "metadata": {},
   "source": [
    "# Telco Data Churn EDA\n",
    "As detailed in README.md, this notebook allows for downloading of the dataset onto local devices, provided the user's personal 'kaggle.json' has been provided. If it has not, please refer to the readme.\n",
    "\n",
    "## Further aim of Notebook: Prune and Clean Data\n",
    "There are problems with the data, specifically way too many fields and data that are not useful to pass through to the NN as well as several NaN values. \n",
    "\n",
    "As a result, running this notebook is also required in order to prune and clean the raw data before using it directly on the NN.\n"
   ]
  },
  {
   "cell_type": "code",
   "execution_count": 6,
   "id": "48d203e4",
   "metadata": {},
   "outputs": [
    {
     "name": "stdout",
     "output_type": "stream",
     "text": [
      "jupyter lab test, hello!\n"
     ]
    }
   ],
   "source": [
    "print('jupyter lab test, hello!')"
   ]
  },
  {
   "cell_type": "markdown",
   "id": "2b87e70f",
   "metadata": {},
   "source": [
    "## Downloading the Dataset\n",
    "The below cell is for downloading the dataset as detailed in the README.\n",
    "\n",
    "### Troubleshooting - For if the below cell is not running properly\n",
    "Please restart the notebook and try again. If problems persist, it could be for one of the following reasons:\n",
    "1. 'kaggle.json' is in the wrong folder: If you do not have a file 'kaggle.json', refer to the file README.md in the root, otherwise make sure that 'kaggle.json' has been correctly placed in the folder '.kaggle' in the root.\n",
    "2. The code has shifted out of order: Ensure that the line ``os.environ[\"KAGGLE_CONFIG_DIR\"]`` is before KaggleApi is imported. This sets the working directory\n",
    "3. The code is pointing to the wrong directory: Please use the commented out print statement labelled 'For Troubleshooting' to check where the api is pointing. If it does not match the .kaggle folder detailed here, you may either amend the workingdir so it points to the right place or follow the error and place 'kaggle.json' in the default scanning area\n"
   ]
  },
  {
   "cell_type": "code",
   "execution_count": null,
   "id": "88f7c36e",
   "metadata": {},
   "outputs": [
    {
     "name": "stdout",
     "output_type": "stream",
     "text": [
      "kaggle.json should be in: c:\\Users\\osiam\\OneDrive\\Documents\\GitHub\\A-Newbie-Made-Neural-Network\\.kaggle\n",
      "The variable \"working dir\" should match: c:\\Users\\osiam\\OneDrive\\Documents\\GitHub\\A-Newbie-Made-Neural-Network\\.kaggle\n",
      "Kaggle will look in: c:\\Users\\osiam\\OneDrive\\Documents\\GitHub\\A-Newbie-Made-Neural-Network\\.kaggle\n",
      "Dataset URL: https://www.kaggle.com/datasets/blastchar/telco-customer-churn\n",
      "Downloaded and unzipped to data/raw/\n"
     ]
    }
   ],
   "source": [
    "import os\n",
    "workingdir = os.path.dirname(os.getcwd()) \n",
    "print(\"kaggle.json should be in: \"+workingdir+\"\\\\.kaggle\")\n",
    "os.environ[\"KAGGLE_CONFIG_DIR\"] = os.path.join(workingdir,'.kaggle')\n",
    "\n",
    "from kaggle.api.kaggle_api_extended import KaggleApi\n",
    "\n",
    "# point the Kaggle CLI to the Kaggle folder, allowing for use of the dataset outside of the Kaggle Website\n",
    "api = KaggleApi()\n",
    "\n",
    "# For troubleshooting: print(\"The variable \\\"working dir\\\" should match: \"+api.config_dir)\n",
    "api.authenticate()\n",
    "\n",
    "api.dataset_download_files(\n",
    "    'blastchar/telco-customer-churn',\n",
    "    path='../data/raw',\n",
    "    unzip=True  # Extract into data/raw/\n",
    ")\n",
    "print(\"Downloaded and unzipped to data/raw/\")\n"
   ]
  },
  {
   "cell_type": "code",
   "execution_count": null,
   "id": "64dbd0df",
   "metadata": {},
   "outputs": [],
   "source": [
    "import numpy as np\n",
    "import matplotlib.pyplot as plt\n",
    "import seaborn as sns"
   ]
  }
 ],
 "metadata": {
  "kernelspec": {
   "display_name": "Python 3",
   "language": "python",
   "name": "python3"
  },
  "language_info": {
   "codemirror_mode": {
    "name": "ipython",
    "version": 3
   },
   "file_extension": ".py",
   "mimetype": "text/x-python",
   "name": "python",
   "nbconvert_exporter": "python",
   "pygments_lexer": "ipython3",
   "version": "3.12.0"
  }
 },
 "nbformat": 4,
 "nbformat_minor": 5
}
